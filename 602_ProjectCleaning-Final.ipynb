{
 "cells": [
  {
   "cell_type": "code",
   "execution_count": 1,
   "id": "b47bc30f-719e-4732-aa63-bf4e8b40505a",
   "metadata": {},
   "outputs": [],
   "source": [
    "import pandas as pd\n",
    "import numpy as np\n",
    "import matplotlib.pyplot as plt\n",
    "import plotly.express as px\n",
    "from pptx import Presentation\n",
    "from pydataset import data\n",
    "import plotlyPowerpoint as pp\n",
    "dataset = pd.read_csv( 'C:/Users/Venkateshwaran/OneDrive/Desktop/Data602_Project/fp-historical-wildfire-data-2006-2023_Raw_Dat.csv' )\n",
    "\n",
    "\n"
   ]
  },
  {
   "cell_type": "code",
   "execution_count": 2,
   "id": "089b762e-b47b-4093-bfba-b3383ff0dc23",
   "metadata": {},
   "outputs": [
    {
     "data": {
      "text/plain": [
       "fire_year                                int64\n",
       "fire_number                             object\n",
       "fire_name                               object\n",
       "current_size                           float64\n",
       "size_class                              object\n",
       "fire_location_latitude                 float64\n",
       "fire_location_longitude                float64\n",
       "fire_origin                             object\n",
       "general_cause_desc                      object\n",
       "industry_identifier_desc                object\n",
       "responsible_group_desc                  object\n",
       "activity_class                          object\n",
       "true_cause                              object\n",
       "fire_start_date                 datetime64[ns]\n",
       "det_agent_type                          object\n",
       "det_agent                               object\n",
       "discovered_date                 datetime64[ns]\n",
       "discovered_size                        float64\n",
       "reported_date                   datetime64[ns]\n",
       "dispatched_resource                     object\n",
       "dispatch_date                           object\n",
       "start_for_fire_date                     object\n",
       "assessment_resource                     object\n",
       "assessment_datetime                     object\n",
       "assessment_hectares                    float64\n",
       "fire_spread_rate                       float64\n",
       "fire_type                               object\n",
       "fire_position_on_slope                  object\n",
       "weather_conditions_over_fire            object\n",
       "temperature                            float64\n",
       "relative_humidity                      float64\n",
       "wind_direction                          object\n",
       "wind_speed                             float64\n",
       "fuel_type                               object\n",
       "initial_action_by                       object\n",
       "ia_arrival_at_fire_date                 object\n",
       "ia_access                               object\n",
       "fire_fighting_start_date                object\n",
       "fire_fighting_start_size               float64\n",
       "bucketing_on_fire                       object\n",
       "distance_from_water_source             float64\n",
       "first_bucket_drop_date                  object\n",
       "bh_fs_date                      datetime64[ns]\n",
       "bh_hectares                            float64\n",
       "uc_fs_date                              object\n",
       "uc_hectares                            float64\n",
       "to_fs_date                              object\n",
       "to_hectares                            float64\n",
       "ex_fs_date                      datetime64[ns]\n",
       "ex_hectares                            float64\n",
       "assessment_datetime             datetime64[ns]\n",
       "dtype: object"
      ]
     },
     "execution_count": 2,
     "metadata": {},
     "output_type": "execute_result"
    }
   ],
   "source": [
    "dataset['ex_fs_date']= pd.to_datetime(dataset['ex_fs_date'])\n",
    "dataset['fire_start_date']= pd.to_datetime(dataset['fire_start_date'])\n",
    "dataset['discovered_date']= pd.to_datetime(dataset['discovered_date'])\n",
    "dataset['reported_date']= pd.to_datetime(dataset['reported_date'])\n",
    "dataset['bh_fs_date']= pd.to_datetime(dataset['bh_fs_date'])\n",
    "dataset['assessment_datetime ']= pd.to_datetime(dataset['assessment_datetime'])\n",
    "dataset.dtypes"
   ]
  },
  {
   "cell_type": "code",
   "execution_count": 3,
   "id": "87ceb03a-4a88-4316-8edc-00c1552c9a62",
   "metadata": {},
   "outputs": [
    {
     "data": {
      "text/plain": [
       "fire_year                                int64\n",
       "fire_number                             object\n",
       "fire_name                               object\n",
       "current_size                           float64\n",
       "size_class                              object\n",
       "fire_location_latitude                 float64\n",
       "fire_location_longitude                float64\n",
       "fire_origin                             object\n",
       "general_cause_desc                      object\n",
       "industry_identifier_desc                object\n",
       "responsible_group_desc                  object\n",
       "activity_class                          object\n",
       "true_cause                              object\n",
       "fire_start_date                 datetime64[ns]\n",
       "det_agent_type                          object\n",
       "det_agent                               object\n",
       "discovered_date                 datetime64[ns]\n",
       "discovered_size                        float64\n",
       "reported_date                   datetime64[ns]\n",
       "dispatched_resource                     object\n",
       "dispatch_date                           object\n",
       "start_for_fire_date                     object\n",
       "assessment_resource                     object\n",
       "assessment_datetime                     object\n",
       "assessment_hectares                    float64\n",
       "fire_spread_rate                       float64\n",
       "fire_type                               object\n",
       "fire_position_on_slope                  object\n",
       "weather_conditions_over_fire            object\n",
       "temperature                            float64\n",
       "relative_humidity                      float64\n",
       "wind_direction                          object\n",
       "wind_speed                             float64\n",
       "fuel_type                               object\n",
       "initial_action_by                       object\n",
       "ia_arrival_at_fire_date                 object\n",
       "ia_access                               object\n",
       "fire_fighting_start_date                object\n",
       "fire_fighting_start_size               float64\n",
       "bucketing_on_fire                       object\n",
       "distance_from_water_source             float64\n",
       "first_bucket_drop_date                  object\n",
       "bh_fs_date                      datetime64[ns]\n",
       "bh_hectares                            float64\n",
       "uc_fs_date                              object\n",
       "uc_hectares                            float64\n",
       "to_fs_date                              object\n",
       "to_hectares                            float64\n",
       "ex_fs_date                      datetime64[ns]\n",
       "ex_hectares                            float64\n",
       "assessment_datetime             datetime64[ns]\n",
       "dtype: object"
      ]
     },
     "execution_count": 3,
     "metadata": {},
     "output_type": "execute_result"
    }
   ],
   "source": [
    "dataset.dtypes"
   ]
  },
  {
   "cell_type": "code",
   "execution_count": 4,
   "id": "8c879052-366e-4efa-a9ae-1413d7e67976",
   "metadata": {},
   "outputs": [],
   "source": [
    "import warnings\n",
    "warnings.filterwarnings('ignore')\n",
    "dataset['discovered_date']= dataset.apply(lambda x:x['reported_date'] if pd.isna(x['discovered_date']) else x ['discovered_date'],axis=1)\n",
    "dataset['ex_fs_date']= dataset.apply(lambda x:x['bh_fs_date'] if pd.isna(x['ex_fs_date']) else x ['ex_fs_date'],axis=1)\n",
    "dataset['Responsetime']=((dataset['ex_fs_date']-dataset['discovered_date']).dt.total_seconds() / 60)"
   ]
  },
  {
   "cell_type": "code",
   "execution_count": 5,
   "id": "3e798d18-2abb-446d-8840-659f3ad118f9",
   "metadata": {},
   "outputs": [],
   "source": [
    "dataset.to_csv('C:/Users/Venkateshwaran/OneDrive/Desktop/Data602_Project/fp-historical-wildfire-data-2006-2023_Cleaned_Dat.csv', index=False)"
   ]
  },
  {
   "cell_type": "code",
   "execution_count": 6,
   "id": "15a49d43-00fd-455b-9bb5-4c9f0546334b",
   "metadata": {},
   "outputs": [
    {
     "data": {
      "text/plain": [
       "fire_year                    int64\n",
       "fire_number                 object\n",
       "current_size               float64\n",
       "size_class                  object\n",
       "discovered_date     datetime64[ns]\n",
       "ex_fs_date          datetime64[ns]\n",
       "Responsetime               float64\n",
       "fire_spread_rate           float64\n",
       "dtype: object"
      ]
     },
     "execution_count": 6,
     "metadata": {},
     "output_type": "execute_result"
    }
   ],
   "source": [
    "import warnings\n",
    "warnings.filterwarnings('ignore')\n",
    "filtereddf=dataset[['fire_year','fire_number','current_size','size_class','discovered_date','ex_fs_date','Responsetime','fire_spread_rate']]\n",
    "filtereddf.dtypes"
   ]
  },
  {
   "cell_type": "code",
   "execution_count": 7,
   "id": "3404b093-1b03-433e-9802-393964b26609",
   "metadata": {},
   "outputs": [
    {
     "data": {
      "text/plain": [
       "fire_year                    int64\n",
       "fire_number                 object\n",
       "current_size               float64\n",
       "size_class                  object\n",
       "discovered_date     datetime64[ns]\n",
       "ex_fs_date          datetime64[ns]\n",
       "Responsetime               float64\n",
       "fire_spread_rate           float64\n",
       "dtype: object"
      ]
     },
     "execution_count": 7,
     "metadata": {},
     "output_type": "execute_result"
    }
   ],
   "source": [
    "filtereddf.dtypes"
   ]
  },
  {
   "cell_type": "code",
   "execution_count": 8,
   "id": "805c3b82-3646-4500-a0cc-49551982f73d",
   "metadata": {},
   "outputs": [
    {
     "data": {
      "text/html": [
       "<div>\n",
       "<style scoped>\n",
       "    .dataframe tbody tr th:only-of-type {\n",
       "        vertical-align: middle;\n",
       "    }\n",
       "\n",
       "    .dataframe tbody tr th {\n",
       "        vertical-align: top;\n",
       "    }\n",
       "\n",
       "    .dataframe thead th {\n",
       "        text-align: right;\n",
       "    }\n",
       "</style>\n",
       "<table border=\"1\" class=\"dataframe\">\n",
       "  <thead>\n",
       "    <tr style=\"text-align: right;\">\n",
       "      <th></th>\n",
       "      <th>fire_year</th>\n",
       "      <th>fire_number</th>\n",
       "      <th>current_size</th>\n",
       "      <th>size_class</th>\n",
       "      <th>discovered_date</th>\n",
       "      <th>ex_fs_date</th>\n",
       "      <th>Responsetime</th>\n",
       "      <th>fire_spread_rate</th>\n",
       "    </tr>\n",
       "  </thead>\n",
       "  <tbody>\n",
       "  </tbody>\n",
       "</table>\n",
       "</div>"
      ],
      "text/plain": [
       "Empty DataFrame\n",
       "Columns: [fire_year, fire_number, current_size, size_class, discovered_date, ex_fs_date, Responsetime, fire_spread_rate]\n",
       "Index: []"
      ]
     },
     "execution_count": 8,
     "metadata": {},
     "output_type": "execute_result"
    }
   ],
   "source": [
    "filtereddf[filtereddf['Responsetime'].isna()]"
   ]
  },
  {
   "cell_type": "code",
   "execution_count": 9,
   "id": "cfe94593-c5d6-4077-baae-1425a8ad8c96",
   "metadata": {},
   "outputs": [],
   "source": [
    "filtereddf.to_csv('C:/Users/Venkateshwaran/OneDrive/Desktop/Data602_Project/fp-historical-wildfire-data-2006-2023_Cleaned_Dat_1filtered.csv', index=False)"
   ]
  },
  {
   "cell_type": "code",
   "execution_count": 10,
   "id": "412e35eb-e09d-48cd-89e5-4576989bd833",
   "metadata": {},
   "outputs": [
    {
     "data": {
      "text/html": [
       "<div>\n",
       "<style scoped>\n",
       "    .dataframe tbody tr th:only-of-type {\n",
       "        vertical-align: middle;\n",
       "    }\n",
       "\n",
       "    .dataframe tbody tr th {\n",
       "        vertical-align: top;\n",
       "    }\n",
       "\n",
       "    .dataframe thead th {\n",
       "        text-align: right;\n",
       "    }\n",
       "</style>\n",
       "<table border=\"1\" class=\"dataframe\">\n",
       "  <thead>\n",
       "    <tr style=\"text-align: right;\">\n",
       "      <th></th>\n",
       "      <th>fire_year</th>\n",
       "      <th>fire_number</th>\n",
       "      <th>current_size</th>\n",
       "      <th>size_class</th>\n",
       "      <th>discovered_date</th>\n",
       "      <th>ex_fs_date</th>\n",
       "      <th>Responsetime</th>\n",
       "      <th>fire_spread_rate</th>\n",
       "    </tr>\n",
       "  </thead>\n",
       "  <tbody>\n",
       "  </tbody>\n",
       "</table>\n",
       "</div>"
      ],
      "text/plain": [
       "Empty DataFrame\n",
       "Columns: [fire_year, fire_number, current_size, size_class, discovered_date, ex_fs_date, Responsetime, fire_spread_rate]\n",
       "Index: []"
      ]
     },
     "execution_count": 10,
     "metadata": {},
     "output_type": "execute_result"
    }
   ],
   "source": [
    "filtereddf[filtereddf['current_size'].isna()]"
   ]
  },
  {
   "cell_type": "code",
   "execution_count": 16,
   "id": "0548ad27-6a7e-41a9-9df6-70848c804a51",
   "metadata": {},
   "outputs": [],
   "source": [
    "filtereddf.to_csv('C:/Users/Venkateshwaran/OneDrive/Desktop/Data602_Project/fp-historical-wildfire-data-2006-2023_Cleaned_Dat_2.csv', index=False)"
   ]
  }
 ],
 "metadata": {
  "kernelspec": {
   "display_name": "Python 3 (ipykernel)",
   "language": "python",
   "name": "python3"
  },
  "language_info": {
   "codemirror_mode": {
    "name": "ipython",
    "version": 3
   },
   "file_extension": ".py",
   "mimetype": "text/x-python",
   "name": "python",
   "nbconvert_exporter": "python",
   "pygments_lexer": "ipython3",
   "version": "3.12.4"
  }
 },
 "nbformat": 4,
 "nbformat_minor": 5
}
